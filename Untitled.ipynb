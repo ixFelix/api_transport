{
 "cells": [
  {
   "cell_type": "code",
   "execution_count": 1,
   "metadata": {},
   "outputs": [],
   "source": [
    "import requests\n",
    "import time\n",
    "#from time import strftime\n",
    "import datetime\n",
    "import numpy as np\n",
    "import re\n",
    "import xmltodict\n",
    "import pprint# as pp\n",
    "#import process_command\n",
    "#print(dir(process_command))"
   ]
  },
  {
   "cell_type": "code",
   "execution_count": 2,
   "metadata": {},
   "outputs": [],
   "source": [
    "def openWebsite(adress):\n",
    "    r = requests.get(adress)\n",
    "    return r.text"
   ]
  },
  {
   "cell_type": "code",
   "execution_count": 3,
   "metadata": {},
   "outputs": [],
   "source": [
    "def prettyPrint(text):\n",
    "    pp = pprint.PrettyPrinter(indent=1)\n",
    "    pp.pprint(text)"
   ]
  },
  {
   "cell_type": "code",
   "execution_count": 24,
   "metadata": {},
   "outputs": [],
   "source": [
    "def process_command_vbb(command, param):  \n",
    "    def furtherParamString(param):#,listToDelete):\n",
    "        ret=\"\"\n",
    "        for key in param.keys():\n",
    "            ret+= \"&\"+str(key)+\"=\"+str(param[key])\n",
    "        return ret\n",
    "    beforeId=command\n",
    "    behindId=furtherParamString(param)\n",
    "    return {\"beforeId\":beforeId, \"behindId\":behindId}\n",
    "\n",
    "def process_command_tfl(param):  \n",
    "    ret=\"\"\n",
    "    for p in param:\n",
    "        ret+= \"/\"+p\n",
    "    return ret\n",
    "    #behindId=furtherParamString(param)\n",
    "    #return {\"beforeId\":beforeId, \"behindId\":behindId}"
   ]
  },
  {
   "cell_type": "code",
   "execution_count": 29,
   "metadata": {},
   "outputs": [],
   "source": [
    "def createAdress_app(command, param):\n",
    "    baseurl=\"http://demo.hafas.de/openapi/vbb-proxy/\"\n",
    "    commands = process_command_vbb(command, param)\n",
    "    accessId =\"felix-fauer-8b71-1705950c2589\"\n",
    "    adress = baseurl + commands['beforeId'] + \"?accessId=\" + accessId + commands['behindId']\n",
    "    print(adress)\n",
    "    return adress\n",
    "\n",
    "def createAdress_tfl(param):\n",
    "    baseurl=\"https://api.tfl.gov.uk\"\n",
    "    commands = process_command_tfl(param)\n",
    "    accessId =\"app_id=1f2bf917&app_key=985d619c2276f4318dff45f31f1274fa\"\n",
    "    #app_id=\"1f2bf917\"\n",
    "    #app_key=\"985d619c2276f4318dff45f31f1274fa\"\n",
    "    adress = baseurl + commands + \"?\" + accessId\n",
    "    print(adress)\n",
    "    return adress\n",
    "# https://api.tfl.gov.uk/journey/journeyresults/westminster/to/\n",
    "# bank?app_id=1f2bf917&app_key=985d619c2276f4318dff45f31f1274fa&forceXml=true"
   ]
  },
  {
   "cell_type": "code",
   "execution_count": 6,
   "metadata": {},
   "outputs": [],
   "source": [
    "def responseToDict(response):\n",
    "    return xmltodict.parse(response)"
   ]
  },
  {
   "cell_type": "code",
   "execution_count": 7,
   "metadata": {},
   "outputs": [],
   "source": [
    "def getData(command, param):\n",
    "    response_xml = openWebsite(createAdress_vbb(command, param))\n",
    "    return responseToDict(response_xml)    "
   ]
  },
  {
   "cell_type": "code",
   "execution_count": 8,
   "metadata": {},
   "outputs": [],
   "source": [
    "def nameToExt(name):\n",
    "    response = getData('location.name', {\"input\":name,\"maxNo\":1})\n",
    "    return response['LocationList']['StopLocation']['@extId']"
   ]
  },
  {
   "cell_type": "code",
   "execution_count": 9,
   "metadata": {},
   "outputs": [],
   "source": [
    "def short_departureAt(name, maxNo=3):\n",
    "    ext=nameToExt(name)\n",
    "    command, param ='departureBoard', {'extId':ext,'maxNo':maxNo}\n",
    "    response = getData(command, param)\n",
    "    return response"
   ]
  },
  {
   "cell_type": "code",
   "execution_count": 10,
   "metadata": {},
   "outputs": [],
   "source": [
    "def nice_nextXDeparturesAt(name, maxNo=3):\n",
    "    response = short_departureAt(name, maxNo)\n",
    "    print(\"Next departures at \"+str(response['DepartureBoard']['Departure'][0]['@stop'])+\":\\n\")\n",
    "    print(\"   Line        Destination                     Time                  (intern data)\")\n",
    "    print(\"   ----        -----------                     ----\")\n",
    "    for dep in response['DepartureBoard']['Departure']:\n",
    "        if \"@rtTime\" in dep.keys():\n",
    "            if dep['@time'][0:5]!= dep['@rtTime'][0:5]:\n",
    "                print(\"   \"+dep['@name'].lstrip().ljust(8)+\"    \"+dep['@direction'].ljust(30)[0:30]+\"  \"+\n",
    "                      dep['@time'][0:5]+\" (\"+dep['@rtTime'][0:5]+\")\"+\"\".ljust(9)+dep['JourneyDetailRef']['@ref'])\n",
    "            else: \n",
    "                print(\"   \"+dep['@name'].lstrip().ljust(8)+\"    \"+dep['@direction'].ljust(30)[0:30]+\"  \"+\n",
    "                      dep['@rtTime'][0:5]+\"       \"+\"\".ljust(10)+dep['JourneyDetailRef']['@ref'])\n",
    "        else:\n",
    "            print(\"   \"+dep['@name'].lstrip().ljust(8)+\"    \"+dep['@direction'].ljust(30)[0:30]+\"  \"+\n",
    "                  dep['@time'][0:5]+\" (?)    \"+\"\".ljust(9)+dep['JourneyDetailRef']['@ref'])\n"
   ]
  },
  {
   "cell_type": "code",
   "execution_count": 11,
   "metadata": {
    "scrolled": true
   },
   "outputs": [
    {
     "name": "stdout",
     "output_type": "stream",
     "text": [
      "http://demo.hafas.de/openapi/vbb-proxy/location.name?accessId=felix-fauer-8b71-1705950c2589&input=Tauernallee/Säntisstraße&maxNo=1\n",
      "http://demo.hafas.de/openapi/vbb-proxy/departureBoard?accessId=felix-fauer-8b71-1705950c2589&extId=900070401&maxNo=2\n",
      "Next departures at Tauernallee/Säntisstr. (Berlin):\n",
      "\n",
      "   Line        Destination                     Time                  (intern data)\n",
      "   ----        -----------                     ----\n",
      "   Bus M76     U Walther-Schreiber-Platz       21:17 (21:20)         1|22135|0|86|15052019\n",
      "   Bus M76     S Lichtenrade                   21:22                 1|22087|0|86|15052019\n",
      "   Bus X76     U Alt-Mariendorf                21:26 (21:25)         1|25428|1|86|15052019\n",
      "   Bus 179     U Alt-Mariendorf                21:29                 1|55091|3|86|15052019\n",
      "   Bus 179     Buckow, Gerlinger Str.          21:30 (?)             1|11613|4|86|15052019\n",
      "   Bus X76     Lichtenrade, Nahariyastr.       21:31                 1|56100|1|86|15052019\n",
      "   Bus M76     U Walther-Schreiber-Platz       21:37                 1|22133|0|86|15052019\n",
      "   Bus M76     S Lichtenrade                   21:42 (?)             1|22087|1|86|15052019\n",
      "   Bus X76     U Alt-Mariendorf                21:46                 1|25428|2|86|15052019\n",
      "   Bus 179     U Alt-Mariendorf                21:49                 1|55091|4|86|15052019\n",
      "   Bus 179     Buckow, Gerlinger Str.          21:50                 1|11613|5|86|15052019\n",
      "   Bus X76     Lichtenrade, Nahariyastr.       21:51                 1|56100|2|86|15052019\n",
      "   Bus M76     U Walther-Schreiber-Platz       21:57                 1|22133|1|86|15052019\n",
      "   Bus M76     S Lichtenrade                   22:02                 1|22093|0|86|15052019\n",
      "   Bus X76     U Alt-Mariendorf                22:07                 1|25439|0|86|15052019\n",
      "   Bus 179     U Alt-Mariendorf                22:09 (?)             1|55091|5|86|15052019\n",
      "   Bus 179     Buckow, Gerlinger Str.          22:10 (?)             1|11613|6|86|15052019\n",
      "   Bus X76     Lichtenrade, Nahariyastr.       22:11                 1|56100|3|86|15052019\n",
      "   Bus M76     U Walther-Schreiber-Platz       22:17 (?)             1|22133|2|86|15052019\n"
     ]
    }
   ],
   "source": [
    "nice_nextXDeparturesAt(\"Tauernallee/Säntisstraße\",2)\n",
    "#nice_nextXDeparturesAt(\"Zoolo\",2)"
   ]
  },
  {
   "cell_type": "code",
   "execution_count": 12,
   "metadata": {},
   "outputs": [],
   "source": [
    "#command, param ='location.nearbystops', {'originCoordLat':52.50798,'originCoordLong':13.38,'maxNo':2}\n",
    "#command, param ='departureBoard', {'extId':900070401,'maxNo':1}\n",
    "#command, param ='location.name', {\"input\":\"Tauernallee/Säntisstraße\",\"maxNo\":2}\n",
    "command, param ='journeyDetail', {\"id\":\"1|540|0|86|12052019\"}\n"
   ]
  },
  {
   "cell_type": "code",
   "execution_count": 14,
   "metadata": {
    "scrolled": true
   },
   "outputs": [
    {
     "name": "stdout",
     "output_type": "stream",
     "text": [
      "http://demo.hafas.de/openapi/vbb-proxy/journeyDetail?accessId=felix-fauer-8b71-1705950c2589&id=1|540|0|86|12052019\n"
     ]
    }
   ],
   "source": [
    "response = getData(command, param)\n",
    "#prettyPrint(response)\n",
    "#print(short_departureAt(\"Tauernallee/Säntisstraße\"))\n",
    "#prettyPrint(short_departureAt(\"Zoolo\"))\n"
   ]
  },
  {
   "cell_type": "code",
   "execution_count": null,
   "metadata": {},
   "outputs": [],
   "source": []
  },
  {
   "cell_type": "code",
   "execution_count": null,
   "metadata": {},
   "outputs": [],
   "source": []
  },
  {
   "cell_type": "code",
   "execution_count": null,
   "metadata": {
    "scrolled": true
   },
   "outputs": [],
   "source": []
  },
  {
   "cell_type": "code",
   "execution_count": 41,
   "metadata": {},
   "outputs": [
    {
     "name": "stdout",
     "output_type": "stream",
     "text": [
      "https://api.tfl.gov.uk/journey/journeyresults/westminster/to/bank?app_id=1f2bf917&app_key=985d619c2276f4318dff45f31f1274fa\n",
      "https://api.tfl.gov.uk/stoppoint/search/BakerStreet?app_id=1f2bf917&app_key=985d619c2276f4318dff45f31f1274fa\n",
      "https://api.tfl.gov.uk/StopPoint/940GZZLUBST/arrivals?app_id=1f2bf917&app_key=985d619c2276f4318dff45f31f1274fa\n"
     ]
    },
    {
     "data": {
      "text/plain": [
       "'https://api.tfl.gov.uk/StopPoint/940GZZLUBST/arrivals?app_id=1f2bf917&app_key=985d619c2276f4318dff45f31f1274fa'"
      ]
     },
     "execution_count": 41,
     "metadata": {},
     "output_type": "execute_result"
    }
   ],
   "source": [
    "#createAdress_tfl(['journey','journeyresults','westminster','to','bank'])\n",
    "#createAdress_tfl(['stoppoint','search','BakerStreet'])\n",
    "createAdress_tfl(['StopPoint','940GZZLUBST','arrivals'])"
   ]
  },
  {
   "cell_type": "code",
   "execution_count": null,
   "metadata": {},
   "outputs": [],
   "source": []
  }
 ],
 "metadata": {
  "kernelspec": {
   "display_name": "Python 3",
   "language": "python",
   "name": "python3"
  },
  "language_info": {
   "codemirror_mode": {
    "name": "ipython",
    "version": 3
   },
   "file_extension": ".py",
   "mimetype": "text/x-python",
   "name": "python",
   "nbconvert_exporter": "python",
   "pygments_lexer": "ipython3",
   "version": "3.6.8"
  }
 },
 "nbformat": 4,
 "nbformat_minor": 2
}
