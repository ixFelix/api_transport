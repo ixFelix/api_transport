{
 "cells": [
  {
   "cell_type": "code",
   "execution_count": 1,
   "metadata": {},
   "outputs": [],
   "source": [
    "import requests\n",
    "import time\n",
    "#from time import strftime\n",
    "import datetime\n",
    "import numpy as np\n",
    "import re\n",
    "import xmltodict\n",
    "import pprint# as pp\n",
    "#import process_command\n",
    "#print(dir(process_command))"
   ]
  },
  {
   "cell_type": "code",
   "execution_count": 2,
   "metadata": {},
   "outputs": [],
   "source": [
    "def openWebsite(adress):\n",
    "    r = requests.get(adress)\n",
    "    return r.text"
   ]
  },
  {
   "cell_type": "code",
   "execution_count": 3,
   "metadata": {},
   "outputs": [],
   "source": [
    "def prettyPrint(text):\n",
    "    pp = pprint.PrettyPrinter(indent=1)\n",
    "    pp.pprint(text)"
   ]
  },
  {
   "cell_type": "code",
   "execution_count": 4,
   "metadata": {},
   "outputs": [],
   "source": [
    "def process_command_vbb(command, param):  \n",
    "    def furtherParamString(param):#,listToDelete):\n",
    "        ret=\"\"\n",
    "        for key in param.keys():\n",
    "            ret+= \"&\"+str(key)+\"=\"+str(param[key])\n",
    "        return ret\n",
    "    beforeId=command\n",
    "    behindId=furtherParamString(param)\n",
    "    return {\"beforeId\":beforeId, \"behindId\":behindId}"
   ]
  },
  {
   "cell_type": "code",
   "execution_count": 5,
   "metadata": {},
   "outputs": [],
   "source": [
    "def createAdress_vbb(command, param):\n",
    "    baseurl=\"http://demo.hafas.de/openapi/vbb-proxy/\"\n",
    "    commands = process_command_vbb(command, param)\n",
    "    accessId =\"felix-fauer-8b71-1705950c2589\"\n",
    "    adress = baseurl + commands['beforeId'] + \"?accessId=\" + accessId + commands['behindId']\n",
    "    print(adress)\n",
    "    return adress"
   ]
  },
  {
   "cell_type": "code",
   "execution_count": 15,
   "metadata": {},
   "outputs": [],
   "source": [
    "def responseToDict(response):\n",
    "    print(response)\n",
    "    return xmltodict.parse(response)"
   ]
  },
  {
   "cell_type": "code",
   "execution_count": 7,
   "metadata": {},
   "outputs": [],
   "source": [
    "def getData(command, param):\n",
    "    response_xml = openWebsite(createAdress_vbb(command, param))\n",
    "    return responseToDict(response_xml)    "
   ]
  },
  {
   "cell_type": "code",
   "execution_count": 8,
   "metadata": {},
   "outputs": [],
   "source": [
    "def nameToExt(name):\n",
    "    response = getData('location.name', {\"input\":name,\"maxNo\":1})\n",
    "    return response['LocationList']['StopLocation']['@extId']"
   ]
  },
  {
   "cell_type": "code",
   "execution_count": 9,
   "metadata": {},
   "outputs": [],
   "source": [
    "def short_departureAt(name, maxNo=3):\n",
    "    ext=nameToExt(name)\n",
    "    command, param ='departureBoard', {'extId':ext,'maxJourneys':maxNo}\n",
    "    response = getData(command, param)\n",
    "    return response"
   ]
  },
  {
   "cell_type": "code",
   "execution_count": 10,
   "metadata": {},
   "outputs": [],
   "source": [
    "def nice_nextXDeparturesAt(name, maxNo=3):\n",
    "    response = short_departureAt(name, maxNo)\n",
    "    print(\"Next departures at \"+str(response['DepartureBoard']['Departure'][0]['@stop'])+\":\\n\")\n",
    "    print(\"   Line        Destination                     Time                  (intern data)\")\n",
    "    print(\"   ----        -----------                     ----\")\n",
    "    for dep in response['DepartureBoard']['Departure']:\n",
    "        if \"@rtTime\" in dep.keys():\n",
    "            if dep['@time'][0:5]!= dep['@rtTime'][0:5]:\n",
    "                print(\"   \"+dep['@name'].lstrip().ljust(8)+\"    \"+dep['@direction'].ljust(30)[0:30]+\"  \"+\n",
    "                      dep['@time'][0:5]+\" (\"+dep['@rtTime'][0:5]+\")\"+\"\".ljust(9)+dep['JourneyDetailRef']['@ref'])\n",
    "            else: \n",
    "                print(\"   \"+dep['@name'].lstrip().ljust(8)+\"    \"+dep['@direction'].ljust(30)[0:30]+\"  \"+\n",
    "                      dep['@rtTime'][0:5]+\"       \"+\"\".ljust(10)+dep['JourneyDetailRef']['@ref'])\n",
    "        else:\n",
    "            print(\"   \"+dep['@name'].lstrip().ljust(8)+\"    \"+dep['@direction'].ljust(30)[0:30]+\"  \"+\n",
    "                  dep['@time'][0:5]+\" (?)    \"+\"\".ljust(9)+dep['JourneyDetailRef']['@ref'])\n"
   ]
  },
  {
   "cell_type": "code",
   "execution_count": 11,
   "metadata": {
    "scrolled": true
   },
   "outputs": [
    {
     "name": "stdout",
     "output_type": "stream",
     "text": [
      "http://demo.hafas.de/openapi/vbb-proxy/location.name?accessId=felix-fauer-8b71-1705950c2589&input=Messe Nord&maxNo=1\n",
      "http://demo.hafas.de/openapi/vbb-proxy/departureBoard?accessId=felix-fauer-8b71-1705950c2589&extId=900024106&maxJourneys=20\n",
      "Next departures at S Messe Nord/ICC (Berlin):\n",
      "\n",
      "   Line        Destination                     Time                  (intern data)\n",
      "   ----        -----------                     ----\n",
      "   M49         S+U Zoologischer Garten         11:34 (?)             1|24918|3|86|20022022\n",
      "   M49         Staaken, Reimerweg              11:40 (?)             1|24963|4|86|20022022\n",
      "   X34         S+U Zoologischer Garten         11:43 (?)             1|27952|3|86|20022022\n",
      "   M49         S+U Zoologischer Garten         11:44 (?)             1|24845|4|86|20022022\n",
      "   X34         Kladow, Hottengrund             11:46 (?)             1|28070|0|86|20022022\n",
      "   M49         Heerstr./Nennhauser Damm        11:50 (?)             1|25037|4|86|20022022\n",
      "   139         Hakenfelde, Werderstr.          11:53 (?)             1|10594|5|86|20022022\n",
      "   M49         S+U Zoologischer Garten         11:54 (?)             1|24918|4|86|20022022\n",
      "   M49         Staaken, Reimerweg              12:00 (?)             1|24963|5|86|20022022\n",
      "   X34         S+U Zoologischer Garten         12:03 (?)             1|27952|4|86|20022022\n",
      "   M49         S+U Zoologischer Garten         12:04 (?)             1|24845|5|86|20022022\n",
      "   X34         Kladow, Hottengrund             12:06 (?)             1|28067|0|86|20022022\n",
      "   M49         Heerstr./Nennhauser Damm        12:10 (?)             1|25037|5|86|20022022\n",
      "   218         Pfaueninsel                     12:11 (?)             1|15860|1|86|20022022\n",
      "   139         Hakenfelde, Werderstr.          12:13 (?)             1|10594|6|86|20022022\n",
      "   M49         S+U Zoologischer Garten         12:14 (?)             1|24918|5|86|20022022\n",
      "   A05         Elstal,Erlebnis-Dorf            12:15 (?)             1|38351|1|86|20022022\n",
      "   A05         Elstal, Zum Erlebnis-Dorf       12:15                 1|71560|0|86|20022022\n",
      "   M49         Staaken, Reimerweg              12:20 (?)             1|24963|6|86|20022022\n",
      "   M49         S+U Zoologischer Garten         12:24 (?)             1|24845|6|86|20022022\n",
      "   X34         S+U Zoologischer Garten         12:24 (?)             1|27972|0|86|20022022\n"
     ]
    }
   ],
   "source": [
    "#nice_nextXDeparturesAt(\"Tauernallee/\",5)\n",
    "nice_nextXDeparturesAt(\"Messe Nord\",20)"
   ]
  },
  {
   "cell_type": "code",
   "execution_count": 16,
   "metadata": {},
   "outputs": [
    {
     "name": "stdout",
     "output_type": "stream",
     "text": [
      "http://demo.hafas.de/openapi/vbb-proxy/trainSearch?accessId=felix-fauer-8b71-1705950c2589&match=S1&date=2022-02-20&extId=900024106&maxJourneys=5\n",
      "<html><head><meta charset=\"UTF-8\"></head><body><ul><li><a href='https://demo.hafas.de/openapi/vbb-proxy/arrivalBoard?wadl' target='_blank'>Arrival board</a></li><li><a href='https://demo.hafas.de/openapi/vbb-proxy/departureBoard?wadl' target='_blank'>Departure board</a></li><li><a href='https://demo.hafas.de/openapi/vbb-proxy/gisroute?wadl' target='_blank'>Gis Route</a></li><li><a href='https://demo.hafas.de/openapi/vbb-proxy/himsearch?wadl' target='_blank'>HIM Search</a></li><li><a href='https://demo.hafas.de/openapi/vbb-proxy/journeyDetail?wadl' target='_blank'>Journey detail</a></li><li><a href='https://demo.hafas.de/openapi/vbb-proxy/location.nearbystops?wadl' target='_blank'>Location search by coordinate</a></li><li><a href='https://demo.hafas.de/openapi/vbb-proxy/location.name?wadl' target='_blank'>Location search by name</a></li><li><a href='https://demo.hafas.de/openapi/vbb-proxy/trip?wadl' target='_blank'>Trip search</a></li></ul></body></html>\n"
     ]
    },
    {
     "ename": "ExpatError",
     "evalue": "mismatched tag: line 1, column 36",
     "output_type": "error",
     "traceback": [
      "\u001b[1;31m---------------------------------------------------------------------------\u001b[0m",
      "\u001b[1;31mExpatError\u001b[0m                                Traceback (most recent call last)",
      "\u001b[1;32m<ipython-input-16-af341cab7124>\u001b[0m in \u001b[0;36m<module>\u001b[1;34m\u001b[0m\n\u001b[0;32m      8\u001b[0m \u001b[1;33m\u001b[0m\u001b[0m\n\u001b[0;32m      9\u001b[0m     \u001b[1;31m#return(response)\u001b[0m\u001b[1;33m\u001b[0m\u001b[1;33m\u001b[0m\u001b[1;33m\u001b[0m\u001b[0m\n\u001b[1;32m---> 10\u001b[1;33m \u001b[0mget_stations_of_line\u001b[0m\u001b[1;33m(\u001b[0m\u001b[1;33m)\u001b[0m\u001b[1;33m\u001b[0m\u001b[1;33m\u001b[0m\u001b[0m\n\u001b[0m",
      "\u001b[1;32m<ipython-input-16-af341cab7124>\u001b[0m in \u001b[0;36mget_stations_of_line\u001b[1;34m()\u001b[0m\n\u001b[0;32m      5\u001b[0m     \u001b[0mmaxNo\u001b[0m\u001b[1;33m=\u001b[0m\u001b[1;36m5\u001b[0m\u001b[1;33m\u001b[0m\u001b[1;33m\u001b[0m\u001b[0m\n\u001b[0;32m      6\u001b[0m     \u001b[0mcommand\u001b[0m\u001b[1;33m,\u001b[0m \u001b[0mparam\u001b[0m \u001b[1;33m=\u001b[0m\u001b[1;34m'trainSearch'\u001b[0m\u001b[1;33m,\u001b[0m \u001b[1;33m{\u001b[0m\u001b[1;34m'match'\u001b[0m\u001b[1;33m:\u001b[0m\u001b[1;34m'S1'\u001b[0m\u001b[1;33m,\u001b[0m\u001b[1;34m'date'\u001b[0m\u001b[1;33m:\u001b[0m\u001b[1;34m'2022-02-20'\u001b[0m\u001b[1;33m,\u001b[0m \u001b[1;34m'extId'\u001b[0m\u001b[1;33m:\u001b[0m\u001b[0mext\u001b[0m\u001b[1;33m,\u001b[0m\u001b[1;34m'maxJourneys'\u001b[0m\u001b[1;33m:\u001b[0m\u001b[0mmaxNo\u001b[0m\u001b[1;33m}\u001b[0m\u001b[1;33m\u001b[0m\u001b[1;33m\u001b[0m\u001b[0m\n\u001b[1;32m----> 7\u001b[1;33m     \u001b[0mresponse\u001b[0m \u001b[1;33m=\u001b[0m \u001b[0mgetData\u001b[0m\u001b[1;33m(\u001b[0m\u001b[0mcommand\u001b[0m\u001b[1;33m,\u001b[0m \u001b[0mparam\u001b[0m\u001b[1;33m)\u001b[0m\u001b[1;33m\u001b[0m\u001b[1;33m\u001b[0m\u001b[0m\n\u001b[0m\u001b[0;32m      8\u001b[0m \u001b[1;33m\u001b[0m\u001b[0m\n\u001b[0;32m      9\u001b[0m     \u001b[1;31m#return(response)\u001b[0m\u001b[1;33m\u001b[0m\u001b[1;33m\u001b[0m\u001b[1;33m\u001b[0m\u001b[0m\n",
      "\u001b[1;32m<ipython-input-7-0acbea2ea0d8>\u001b[0m in \u001b[0;36mgetData\u001b[1;34m(command, param)\u001b[0m\n\u001b[0;32m      1\u001b[0m \u001b[1;32mdef\u001b[0m \u001b[0mgetData\u001b[0m\u001b[1;33m(\u001b[0m\u001b[0mcommand\u001b[0m\u001b[1;33m,\u001b[0m \u001b[0mparam\u001b[0m\u001b[1;33m)\u001b[0m\u001b[1;33m:\u001b[0m\u001b[1;33m\u001b[0m\u001b[1;33m\u001b[0m\u001b[0m\n\u001b[0;32m      2\u001b[0m     \u001b[0mresponse_xml\u001b[0m \u001b[1;33m=\u001b[0m \u001b[0mopenWebsite\u001b[0m\u001b[1;33m(\u001b[0m\u001b[0mcreateAdress_vbb\u001b[0m\u001b[1;33m(\u001b[0m\u001b[0mcommand\u001b[0m\u001b[1;33m,\u001b[0m \u001b[0mparam\u001b[0m\u001b[1;33m)\u001b[0m\u001b[1;33m)\u001b[0m\u001b[1;33m\u001b[0m\u001b[1;33m\u001b[0m\u001b[0m\n\u001b[1;32m----> 3\u001b[1;33m     \u001b[1;32mreturn\u001b[0m \u001b[0mresponseToDict\u001b[0m\u001b[1;33m(\u001b[0m\u001b[0mresponse_xml\u001b[0m\u001b[1;33m)\u001b[0m\u001b[1;33m\u001b[0m\u001b[1;33m\u001b[0m\u001b[0m\n\u001b[0m",
      "\u001b[1;32m<ipython-input-15-d85ab033e8da>\u001b[0m in \u001b[0;36mresponseToDict\u001b[1;34m(response)\u001b[0m\n\u001b[0;32m      1\u001b[0m \u001b[1;32mdef\u001b[0m \u001b[0mresponseToDict\u001b[0m\u001b[1;33m(\u001b[0m\u001b[0mresponse\u001b[0m\u001b[1;33m)\u001b[0m\u001b[1;33m:\u001b[0m\u001b[1;33m\u001b[0m\u001b[1;33m\u001b[0m\u001b[0m\n\u001b[0;32m      2\u001b[0m     \u001b[0mprint\u001b[0m\u001b[1;33m(\u001b[0m\u001b[0mresponse\u001b[0m\u001b[1;33m)\u001b[0m\u001b[1;33m\u001b[0m\u001b[1;33m\u001b[0m\u001b[0m\n\u001b[1;32m----> 3\u001b[1;33m     \u001b[1;32mreturn\u001b[0m \u001b[0mxmltodict\u001b[0m\u001b[1;33m.\u001b[0m\u001b[0mparse\u001b[0m\u001b[1;33m(\u001b[0m\u001b[0mresponse\u001b[0m\u001b[1;33m)\u001b[0m\u001b[1;33m\u001b[0m\u001b[1;33m\u001b[0m\u001b[0m\n\u001b[0m",
      "\u001b[1;32m~\\AppData\\Roaming\\Python\\Python38\\site-packages\\xmltodict.py\u001b[0m in \u001b[0;36mparse\u001b[1;34m(xml_input, encoding, expat, process_namespaces, namespace_separator, disable_entities, **kwargs)\u001b[0m\n\u001b[0;32m    325\u001b[0m         \u001b[0mparser\u001b[0m\u001b[1;33m.\u001b[0m\u001b[0mParseFile\u001b[0m\u001b[1;33m(\u001b[0m\u001b[0mxml_input\u001b[0m\u001b[1;33m)\u001b[0m\u001b[1;33m\u001b[0m\u001b[1;33m\u001b[0m\u001b[0m\n\u001b[0;32m    326\u001b[0m     \u001b[1;32melse\u001b[0m\u001b[1;33m:\u001b[0m\u001b[1;33m\u001b[0m\u001b[1;33m\u001b[0m\u001b[0m\n\u001b[1;32m--> 327\u001b[1;33m         \u001b[0mparser\u001b[0m\u001b[1;33m.\u001b[0m\u001b[0mParse\u001b[0m\u001b[1;33m(\u001b[0m\u001b[0mxml_input\u001b[0m\u001b[1;33m,\u001b[0m \u001b[1;32mTrue\u001b[0m\u001b[1;33m)\u001b[0m\u001b[1;33m\u001b[0m\u001b[1;33m\u001b[0m\u001b[0m\n\u001b[0m\u001b[0;32m    328\u001b[0m     \u001b[1;32mreturn\u001b[0m \u001b[0mhandler\u001b[0m\u001b[1;33m.\u001b[0m\u001b[0mitem\u001b[0m\u001b[1;33m\u001b[0m\u001b[1;33m\u001b[0m\u001b[0m\n\u001b[0;32m    329\u001b[0m \u001b[1;33m\u001b[0m\u001b[0m\n",
      "\u001b[1;31mExpatError\u001b[0m: mismatched tag: line 1, column 36"
     ]
    }
   ],
   "source": [
    "# does not work yet. responste from site is not in the expected format. click link.\n",
    "\n",
    "def get_stations_of_line():\n",
    "    ext=900024106\n",
    "    maxNo=5\n",
    "    command, param ='trainSearch', {'match':'S1','date':'2022-02-20', 'extId':ext,'maxJourneys':maxNo}\n",
    "    response = getData(command, param)\n",
    "    \n",
    "    #return(response)\n",
    "get_stations_of_line()"
   ]
  },
  {
   "cell_type": "code",
   "execution_count": 13,
   "metadata": {},
   "outputs": [],
   "source": [
    "#<baseurl>/trainSearch?accessId=abc&match=S4&date=2016-11-14"
   ]
  },
  {
   "cell_type": "code",
   "execution_count": null,
   "metadata": {
    "scrolled": true
   },
   "outputs": [],
   "source": []
  },
  {
   "cell_type": "code",
   "execution_count": null,
   "metadata": {},
   "outputs": [],
   "source": []
  },
  {
   "cell_type": "code",
   "execution_count": null,
   "metadata": {},
   "outputs": [],
   "source": []
  }
 ],
 "metadata": {
  "kernelspec": {
   "display_name": "Python 3",
   "language": "python",
   "name": "python3"
  },
  "language_info": {
   "codemirror_mode": {
    "name": "ipython",
    "version": 3
   },
   "file_extension": ".py",
   "mimetype": "text/x-python",
   "name": "python",
   "nbconvert_exporter": "python",
   "pygments_lexer": "ipython3",
   "version": "3.8.5"
  }
 },
 "nbformat": 4,
 "nbformat_minor": 2
}
