{
 "cells": [
  {
   "cell_type": "code",
   "execution_count": 1,
   "metadata": {},
   "outputs": [],
   "source": [
    "import requests, json\n",
    "import time\n",
    "#from time import strftime\n",
    "import datetime\n",
    "import numpy as np\n",
    "import re\n",
    "import xmltodict\n",
    "import pprint# as pp\n",
    "#import process_command\n",
    "#print(dir(process_command))"
   ]
  },
  {
   "cell_type": "markdown",
   "metadata": {},
   "source": [
    "## Internal functions"
   ]
  },
  {
   "cell_type": "code",
   "execution_count": 2,
   "metadata": {},
   "outputs": [],
   "source": [
    "baseurl=\"https://v5.vbb.transport.rest/\"\n",
    "urlending=\"&accept=application/x-ndjson\"\n",
    "def openWebsite(adress):\n",
    "    print(adress)\n",
    "    r = requests.get(adress)\n",
    "    return r.text"
   ]
  },
  {
   "cell_type": "code",
   "execution_count": 3,
   "metadata": {},
   "outputs": [],
   "source": [
    "def prettyPrint(text):\n",
    "    pp = pprint.PrettyPrinter(indent=1)\n",
    "    pp.pprint(text)"
   ]
  },
  {
   "cell_type": "code",
   "execution_count": 4,
   "metadata": {},
   "outputs": [],
   "source": [
    "def process_command_vbb(command, param):  \n",
    "    def furtherParamString(param):#,listToDelete):\n",
    "        ret=\"\"\n",
    "        for key in param.keys():\n",
    "            ret+= \"&\"+str(key)+\"=\"+str(param[key])\n",
    "        return ret\n",
    "    beforeId=command\n",
    "    behindId=furtherParamString(param)\n",
    "    return {\"beforeId\":beforeId, \"behindId\":behindId}"
   ]
  },
  {
   "cell_type": "code",
   "execution_count": 5,
   "metadata": {},
   "outputs": [],
   "source": [
    "def createAdress_vbb(command, param):\n",
    "    commands = process_command_vbb(command, param)\n",
    "    #accessId =\"felix-fauer-8b71-1705950c2589\"\n",
    "    adress = baseurl + commands['beforeId'] + \"/\" + commands['behindId']+\"&accept=application/x-ndjson\"\n",
    "    #print(adress)\n",
    "    return adress"
   ]
  },
  {
   "cell_type": "code",
   "execution_count": 6,
   "metadata": {},
   "outputs": [
    {
     "name": "stdout",
     "output_type": "stream",
     "text": [
      "https://v5.vbb.transport.rest/stops/900000013102/departures?when=tomorrow%206pm&results=3&accept=application/x-ndjson\n"
     ]
    }
   ],
   "source": [
    "print(\"https://v5.vbb.transport.rest/stops/900000013102/departures?when=tomorrow%206pm&results=3&accept=application/x-ndjson\")"
   ]
  },
  {
   "cell_type": "code",
   "execution_count": 7,
   "metadata": {},
   "outputs": [],
   "source": [
    "def responseToDict(response, return_json=True):\n",
    "    if return_json:\n",
    "        return json.loads(response)\n",
    "    else:\n",
    "        return xmltodict.parse(response)"
   ]
  },
  {
   "cell_type": "code",
   "execution_count": 8,
   "metadata": {},
   "outputs": [],
   "source": [
    "def getData(command, param={}):\n",
    "    response_xml = openWebsite(createAdress_vbb(command, param))\n",
    "    return responseToDict(response_xml)    \n",
    "#getData('locations?', {\"query\":\"Tauernallee\",\"maxNo\":1,\"poi\":\"false\",\"addresses\":\"false\"})"
   ]
  },
  {
   "cell_type": "code",
   "execution_count": 9,
   "metadata": {},
   "outputs": [],
   "source": [
    "def nameToExtStation(name):\n",
    "    response = getData('locations?', {\"query\":name,\"maxNo\":1,\"poi\":\"false\",\"addresses\":\"false\"})\n",
    "    return response[0]['location']['id']#['@extId']\n",
    "#nameToExtStation(\"Tauernallee\")"
   ]
  },
  {
   "cell_type": "code",
   "execution_count": 10,
   "metadata": {},
   "outputs": [],
   "source": [
    "def nextDeparturesAtStop(name=False, ext=False, maxNo=3):\n",
    "    if not ext:\n",
    "        if name:\n",
    "            ext=nameToExtStation(name)\n",
    "        else:\n",
    "            print(\"ERROR. You must provide name or ext.\")\n",
    "        \n",
    "    command, param ='stops/'+str(ext)+'/'+'departures?', {'results':maxNo}\n",
    "    response = getData(command, param)\n",
    "    return response\n",
    "#nextDeparturesAtStop(\"Tauernallee\")"
   ]
  },
  {
   "cell_type": "code",
   "execution_count": 11,
   "metadata": {},
   "outputs": [],
   "source": [
    "def stopsOnLine(name):\n",
    "    pass"
   ]
  },
  {
   "cell_type": "code",
   "execution_count": 12,
   "metadata": {},
   "outputs": [],
   "source": [
    "def getLinesAtStop(name=False, ext=False):\n",
    "    if not ext:\n",
    "        ext=nameToExtStation(name)\n",
    "    else:\n",
    "        pass\n"
   ]
  },
  {
   "cell_type": "markdown",
   "metadata": {},
   "source": [
    "# Try and debug"
   ]
  },
  {
   "cell_type": "code",
   "execution_count": 13,
   "metadata": {},
   "outputs": [
    {
     "name": "stdout",
     "output_type": "stream",
     "text": [
      "https://v5.vbb.transport.rest/locations?/&query=U Alt-Mariendorf&maxNo=1&poi=false&addresses=false&accept=application/x-ndjson\n"
     ]
    },
    {
     "data": {
      "text/plain": [
       "'900070301'"
      ]
     },
     "execution_count": 13,
     "metadata": {},
     "output_type": "execute_result"
    }
   ],
   "source": [
    "nameToExtStation(\"U Alt-Mariendorf\")"
   ]
  },
  {
   "cell_type": "code",
   "execution_count": 14,
   "metadata": {},
   "outputs": [
    {
     "name": "stdout",
     "output_type": "stream",
     "text": [
      "https://v5.vbb.transport.rest/stops/900070401/departures?/&results=4&accept=application/x-ndjson\n",
      "now:  2022-09-18 10:37:11.931031\n",
      "0\n",
      "time: 2022-09-18 10:37:00\n",
      "diff: -1 day, 23:59:48.068969\n",
      "print 0\n",
      "1\n",
      "time: 2022-09-18 10:40:00\n",
      "diff: 0:02:48.068969\n",
      "print 2\n",
      "2\n",
      "time: 2022-09-18 10:46:00\n",
      "diff: 0:08:48.068969\n",
      "print 8\n",
      "3\n",
      "time: 2022-09-18 10:47:00\n",
      "diff: 0:09:48.068969\n",
      "print 9\n"
     ]
    }
   ],
   "source": [
    "ext = 900070401\n",
    "nextDep = nextDeparturesAtStop(ext=900070401, maxNo=4)\n",
    "now = datetime.datetime.now()\n",
    "print(\"now: \", now)\n",
    "\n",
    "for i in range(4):\n",
    "    print(i)\n",
    "    time_str = nextDep[i][\"when\"]\n",
    "    iTime = datetime.datetime.strptime(time_str[0:19],\n",
    "                                        '%Y-%m-%dT%H:%M:%S')\n",
    "    print(\"time:\", iTime)\n",
    "    diffTime = iTime-now\n",
    "    print(\"diff:\", diffTime)\n",
    "\n",
    "    if diffTime.seconds >24*60*60/2:\n",
    "        diffMin = (24*60*60-diffTime.seconds)//60\n",
    "    else:\n",
    "        diffMin = diffTime.seconds//60\n",
    "\n",
    "\n",
    "    print(\"print\", diffMin)\n",
    "#datetime(time_str)"
   ]
  },
  {
   "cell_type": "markdown",
   "metadata": {},
   "source": [
    "## Usable functions:"
   ]
  },
  {
   "cell_type": "code",
   "execution_count": 14,
   "metadata": {},
   "outputs": [
    {
     "ename": "TypeError",
     "evalue": "can only concatenate str (not \"int\") to str",
     "output_type": "error",
     "traceback": [
      "\u001b[1;31m---------------------------------------------------------------------------\u001b[0m",
      "\u001b[1;31mTypeError\u001b[0m                                 Traceback (most recent call last)",
      "\u001b[1;32m<ipython-input-14-5ee1e41cf831>\u001b[0m in \u001b[0;36m<module>\u001b[1;34m\u001b[0m\n\u001b[0;32m     11\u001b[0m             print(\"   \"+dep['line']['id'].lstrip().ljust(8)+\"    \"+dep['direction'].ljust(30)[0:30]+\"  \"+\n\u001b[0;32m     12\u001b[0m                  dep['plannedWhen'][11:16]+\" (\"+dep['when'][11:16]+\")\"+\"\".ljust(9))\n\u001b[1;32m---> 13\u001b[1;33m \u001b[0mprint_nextXDeparturesAtStop\u001b[0m\u001b[1;33m(\u001b[0m\u001b[1;34m\"Zoolo\"\u001b[0m\u001b[1;33m,\u001b[0m\u001b[1;36m10\u001b[0m\u001b[1;33m)\u001b[0m\u001b[1;33m\u001b[0m\u001b[1;33m\u001b[0m\u001b[0m\n\u001b[0m",
      "\u001b[1;32m<ipython-input-14-5ee1e41cf831>\u001b[0m in \u001b[0;36mprint_nextXDeparturesAtStop\u001b[1;34m(name, maxNo)\u001b[0m\n\u001b[0;32m      1\u001b[0m \u001b[1;32mdef\u001b[0m \u001b[0mprint_nextXDeparturesAtStop\u001b[0m\u001b[1;33m(\u001b[0m\u001b[0mname\u001b[0m\u001b[1;33m,\u001b[0m \u001b[0mmaxNo\u001b[0m\u001b[1;33m=\u001b[0m\u001b[1;36m3\u001b[0m\u001b[1;33m)\u001b[0m\u001b[1;33m:\u001b[0m\u001b[1;33m\u001b[0m\u001b[1;33m\u001b[0m\u001b[0m\n\u001b[1;32m----> 2\u001b[1;33m     \u001b[0mresponse\u001b[0m \u001b[1;33m=\u001b[0m \u001b[0mnextDeparturesAtStop\u001b[0m\u001b[1;33m(\u001b[0m\u001b[0mname\u001b[0m\u001b[1;33m,\u001b[0m \u001b[0mmaxNo\u001b[0m\u001b[1;33m)\u001b[0m\u001b[1;33m\u001b[0m\u001b[1;33m\u001b[0m\u001b[0m\n\u001b[0m\u001b[0;32m      3\u001b[0m     \u001b[0mprint\u001b[0m\u001b[1;33m(\u001b[0m\u001b[1;34m\"Next departures at \"\u001b[0m\u001b[1;33m+\u001b[0m\u001b[0mstr\u001b[0m\u001b[1;33m(\u001b[0m\u001b[0mresponse\u001b[0m\u001b[1;33m[\u001b[0m\u001b[1;36m1\u001b[0m\u001b[1;33m]\u001b[0m\u001b[1;33m[\u001b[0m\u001b[1;34m'stop'\u001b[0m\u001b[1;33m]\u001b[0m\u001b[1;33m[\u001b[0m\u001b[1;34m'name'\u001b[0m\u001b[1;33m]\u001b[0m\u001b[1;33m)\u001b[0m\u001b[1;33m+\u001b[0m\u001b[1;34m\":\\n\"\u001b[0m\u001b[1;33m)\u001b[0m\u001b[1;33m\u001b[0m\u001b[1;33m\u001b[0m\u001b[0m\n\u001b[0;32m      4\u001b[0m     \u001b[0mprint\u001b[0m\u001b[1;33m(\u001b[0m\u001b[1;34m\"   Line        Destination                     Time                  (intern data)\"\u001b[0m\u001b[1;33m)\u001b[0m\u001b[1;33m\u001b[0m\u001b[1;33m\u001b[0m\u001b[0m\n\u001b[0;32m      5\u001b[0m     \u001b[0mprint\u001b[0m\u001b[1;33m(\u001b[0m\u001b[1;34m\"   ----        -----------                     ----\"\u001b[0m\u001b[1;33m)\u001b[0m\u001b[1;33m\u001b[0m\u001b[1;33m\u001b[0m\u001b[0m\n",
      "\u001b[1;32m<ipython-input-11-cd7f992b9728>\u001b[0m in \u001b[0;36mnextDeparturesAtStop\u001b[1;34m(name, ext, maxNo)\u001b[0m\n\u001b[0;32m      6\u001b[0m             \u001b[0mprint\u001b[0m\u001b[1;33m(\u001b[0m\u001b[1;34m\"ERROR. You must provide name or ext.\"\u001b[0m\u001b[1;33m)\u001b[0m\u001b[1;33m\u001b[0m\u001b[1;33m\u001b[0m\u001b[0m\n\u001b[0;32m      7\u001b[0m \u001b[1;33m\u001b[0m\u001b[0m\n\u001b[1;32m----> 8\u001b[1;33m     \u001b[0mcommand\u001b[0m\u001b[1;33m,\u001b[0m \u001b[0mparam\u001b[0m \u001b[1;33m=\u001b[0m\u001b[1;34m'stops/'\u001b[0m\u001b[1;33m+\u001b[0m\u001b[0mext\u001b[0m\u001b[1;33m+\u001b[0m\u001b[1;34m'/'\u001b[0m\u001b[1;33m+\u001b[0m\u001b[1;34m'departures?'\u001b[0m\u001b[1;33m,\u001b[0m \u001b[1;33m{\u001b[0m\u001b[1;34m'results'\u001b[0m\u001b[1;33m:\u001b[0m\u001b[0mmaxNo\u001b[0m\u001b[1;33m}\u001b[0m\u001b[1;33m\u001b[0m\u001b[1;33m\u001b[0m\u001b[0m\n\u001b[0m\u001b[0;32m      9\u001b[0m     \u001b[0mresponse\u001b[0m \u001b[1;33m=\u001b[0m \u001b[0mgetData\u001b[0m\u001b[1;33m(\u001b[0m\u001b[0mcommand\u001b[0m\u001b[1;33m,\u001b[0m \u001b[0mparam\u001b[0m\u001b[1;33m)\u001b[0m\u001b[1;33m\u001b[0m\u001b[1;33m\u001b[0m\u001b[0m\n\u001b[0;32m     10\u001b[0m     \u001b[1;32mreturn\u001b[0m \u001b[0mresponse\u001b[0m\u001b[1;33m\u001b[0m\u001b[1;33m\u001b[0m\u001b[0m\n",
      "\u001b[1;31mTypeError\u001b[0m: can only concatenate str (not \"int\") to str"
     ]
    }
   ],
   "source": [
    "def print_nextXDeparturesAtStop(name, maxNo=3):\n",
    "    response = nextDeparturesAtStop(name, maxNo)\n",
    "    print(\"Next departures at \"+str(response[1]['stop']['name'])+\":\\n\")\n",
    "    print(\"   Line        Destination                     Time                  (intern data)\")\n",
    "    print(\"   ----        -----------                     ----\")\n",
    "    for dep in response:\n",
    "        if type(dep['delay'])==int:\n",
    "            print(\"   \"+dep['line']['id'].lstrip().ljust(8)+\"    \"+dep['direction'].ljust(30)[0:30]+\"  \"+\n",
    "                 dep['plannedWhen'][11:16]+\" (\"+dep['when'][11:16]+\", d=\"+str(dep['delay']/60)+\")\")\n",
    "        else:\n",
    "            print(\"   \"+dep['line']['id'].lstrip().ljust(8)+\"    \"+dep['direction'].ljust(30)[0:30]+\"  \"+\n",
    "                 dep['plannedWhen'][11:16]+\" (\"+dep['when'][11:16]+\")\"+\"\".ljust(9))\n",
    "print_nextXDeparturesAtStop(\"Zoolo\",10)"
   ]
  },
  {
   "cell_type": "code",
   "execution_count": 14,
   "metadata": {},
   "outputs": [],
   "source": [
    "#from numpy import genfromtxt\n",
    "import numpy as np\n",
    "lines = np.genfromtxt('lines.csv', delimiter=',',dtype=str)\n",
    "operators = np.genfromtxt('operators.csv', delimiter=',',dtype=str)\n",
    "\n",
    "for x in range(lines.shape[0]):\n",
    "    for y in range(lines.shape[1]):\n",
    "        if type(lines[x,y]==str):\n",
    "            lines[x,y] = lines[x,y]. replace('\"','')\n",
    "\n",
    "#my_data_bvg = my_data[my_data[:,2]==796,2]\n",
    "# bvg 796, sbahn 1, regio berlin 108\n",
    "# operator in agency.txt\n",
    "# "
   ]
  },
  {
   "cell_type": "code",
   "execution_count": 58,
   "metadata": {},
   "outputs": [
    {
     "name": "stdout",
     "output_type": "stream",
     "text": [
      "returned 17429_1000\n"
     ]
    }
   ],
   "source": [
    "def get_line_id(name, route_type='700', means=False):\n",
    "    if not means:\n",
    "        if \"S\" in name:\n",
    "            route_type='109'\n",
    "        elif \"U\" in name:\n",
    "            route_type='400'\n",
    "        elif (\"RE\" in name) or (\"RB\" in name):\n",
    "            route_type='100'\n",
    "        elif \"F\" in name:\n",
    "            route_type='1000'\n",
    "        elif \"M\" in name: # metro tram\n",
    "            if len(name)==2 or name in ('M10','M13','M17'):\n",
    "                route_type='900'\n",
    "        elif (\"N\" in name) or (\"X\" in name):\n",
    "            route_type='700'\n",
    "        elif len(name)==2:\n",
    "            route_type='900'\n",
    "    elif means==\"bus\":\n",
    "        route_type='700'\n",
    "    elif means==\"s\":\n",
    "        route_type='109'\n",
    "    elif means==\"u\":\n",
    "        route_type='400'\n",
    "    elif means==\"regio\":\n",
    "        route_type='100'\n",
    "    elif means==\"tram\":\n",
    "        route_type='900'\n",
    "    elif means==\"ferry\":\n",
    "        route_type='1000'\n",
    "\n",
    "    idx = np.where(lines[:,2]==name)\n",
    "    ids = lines[idx,:][0]\n",
    "    if ids.shape[0]==1:\n",
    "        return(ids[0,0])\n",
    "    else:\n",
    "        row = np.where(ids[:,4]==route_type)\n",
    "        remain=ids[row,0][0]\n",
    "        return(remain[0])\n",
    "\n",
    "lineID = get_line_id(\"F10\")\n",
    "print(\"returned\", lineID)"
   ]
  },
  {
   "cell_type": "code",
   "execution_count": 89,
   "metadata": {},
   "outputs": [
    {
     "name": "stdout",
     "output_type": "stream",
     "text": [
      "https://v5.vbb.transport.rest/lines/17337_700/?&accept=application/x-ndjson\n",
      "['070101003392', '070101004361', '070101002995', '070101002592', '070101003379', '070101003380', '070101002496', '070101002497', '070101002498', '070101002485', '070101002386', '070101004025', '070101002387', '070101004193', '070101003568']\n"
     ]
    }
   ],
   "source": [
    "def get_stops_of_line(line_id):\n",
    "        response = openWebsite(baseurl+'lines/'+line_id+\"/?\"+urlending)\n",
    "        #response = getData('lines/'+line_id+\"/?\")\n",
    "        return responseToDict(response)['variants'][0]['stops']\n",
    "\n",
    "lineID = get_line_id(\"179\")\n",
    "stopIDs = get_stops_of_line(lineID)\n",
    "print(stopIDs)"
   ]
  },
  {
   "cell_type": "code",
   "execution_count": 93,
   "metadata": {},
   "outputs": [
    {
     "name": "stdout",
     "output_type": "stream",
     "text": [
      "https://v5.vbb.transport.rest/stops/070101003392/departures?/&results=3&accept=application/x-ndjson\n",
      "https://v5.vbb.transport.rest/stops/070101004361/departures?/&results=3&accept=application/x-ndjson\n",
      "https://v5.vbb.transport.rest/stops/070101002995/departures?/&results=3&accept=application/x-ndjson\n"
     ]
    }
   ],
   "source": [
    "for istop in range(3):#len(stopIDs)):\n",
    "    deps = nextDeparturesAtStop(ext=stopIDs[istop], maxNo=3)"
   ]
  },
  {
   "cell_type": "code",
   "execution_count": 94,
   "metadata": {},
   "outputs": [
    {
     "data": {
      "text/plain": [
       "{'isHafasError': True,\n",
       " 'request': '{\"lang\":\"de\",\"svcReqL\":[{\"meth\":\"StationBoard\",\"req\":{\"type\":\"DEP\",\"date\":\"20220227\",\"time\":\"204103\",\"stbLoc\":{\"type\":\"S\",\"lid\":\"A=1@L=001002995@\"},\"jnyFltrL\":[{\"type\":\"PROD\",\"mode\":\"INC\",\"value\":\"127\"}],\"dur\":10,\"maxJny\":3}}],\"client\":{\"type\":\"WEB\",\"id\":\"VBB\",\"name\":\"VBB WebApp\",\"l\":\"vs_webapp_vbb\"},\"ver\":\"1.45\",\"auth\":{\"type\":\"AID\",\"aid\":\"hafas-vbb-webapp\"}}',\n",
       " 'url': 'https://fahrinfo.vbb.de/bin/mgate.exe?',\n",
       " 'statusCode': 400,\n",
       " 'isClient': True,\n",
       " 'code': 'INVALID_REQUEST',\n",
       " 'message': 'location/stop not found',\n",
       " 'hafasErrorCode': 'LOCATION',\n",
       " 'hafasErrorMessage': 'HCI Service: location missing or invalid',\n",
       " 'error': True,\n",
       " 'msg': 'HAFAS error: location/stop not found'}"
      ]
     },
     "execution_count": 94,
     "metadata": {},
     "output_type": "execute_result"
    }
   ],
   "source": [
    "deps"
   ]
  },
  {
   "cell_type": "code",
   "execution_count": null,
   "metadata": {},
   "outputs": [],
   "source": []
  }
 ],
 "metadata": {
  "kernelspec": {
   "display_name": "Python 3",
   "language": "python",
   "name": "python3"
  },
  "language_info": {
   "codemirror_mode": {
    "name": "ipython",
    "version": 3
   },
   "file_extension": ".py",
   "mimetype": "text/x-python",
   "name": "python",
   "nbconvert_exporter": "python",
   "pygments_lexer": "ipython3",
   "version": "3.8.5"
  }
 },
 "nbformat": 4,
 "nbformat_minor": 2
}
