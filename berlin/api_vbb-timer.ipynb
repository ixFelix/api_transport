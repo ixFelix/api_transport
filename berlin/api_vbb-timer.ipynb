{
 "cells": [
  {
   "cell_type": "code",
   "execution_count": 1,
   "metadata": {},
   "outputs": [],
   "source": [
    "import requests\n",
    "import time\n",
    "#from time import strftime\n",
    "import datetime\n",
    "import numpy as np\n",
    "import re\n",
    "import xmltodict\n",
    "import pprint# as pp\n",
    "#import process_command\n",
    "#print(dir(process_command))"
   ]
  },
  {
   "cell_type": "code",
   "execution_count": 2,
   "metadata": {},
   "outputs": [],
   "source": [
    "class timer:\n",
    "    import timer\n",
    "    def __init__(self,tickLength=60,debug=False):\n",
    "        self.span = tickLength\n",
    "        self.debug=debug\n",
    "        self.goTick=False\n",
    "\n",
    "    def tick(self, debug=False):\n",
    "        now=time.time()\n",
    "        if not self.goTick:\n",
    "            self.starttime = now+0.\n",
    "            self.goTick=True\n",
    "            self.lastTick = now+0.\n",
    "        sleepTime = span - ((now - starttime) % span)\n",
    "        nextTick = now + sleepTime\n",
    "        if nextTick > self.lastTick + self.span*1.1:\n",
    "            if self.debug:\n",
    "                print(\"  - timer: missed a tick\")\n",
    "        if self.debug:\n",
    "            print(\"  - timer: sleepTime = \"+str(sleepTime))\n",
    "        time.sleep(sleepTime)    \n",
    "        self.lastTick = time.time()\n",
    "    \n",
    "    def tickList_set(self,aList, epsilon = 0.1):\n",
    "        self.tickList = aList\n",
    "        self.tickListPointer=0\n",
    "        self.epsilon=epsilon\n",
    "    \n",
    "    def tickList_go(self): # use this method in a loop before doing something! First call starts counter.\n",
    "        if self.tickListPointer==0:\n",
    "            self.tickList_startTime=time.time()\n",
    "        differenceReal = time.time() - self.tickList_startTime\n",
    "        differencePlanned = self.tickList[self.tickListPointer]\n",
    "            \n",
    "        if differenceReal < differencePlanned:\n",
    "            sleepTime = differencePlanned-differenceReal \n",
    "            if self.debug:\n",
    "                print(\"  - timer: sleepTime =\",sleepTime)\n",
    "            time.sleep(sleepTime)\n",
    "        elif not self.tickListPointer==0:\n",
    "            if self.debug:\n",
    "                print(\"  - timer: warning. took to long time. Moving immidiatelly\")\n",
    "\n",
    "        if self.tickListPointer==len(self.tickList)-1:\n",
    "            if self.debug:\n",
    "                print(\"  - timer: tick list ends after next action.\")\n",
    "            return False\n",
    "        self.tickListPointer+=1\n",
    "        return True"
   ]
  },
  {
   "cell_type": "code",
   "execution_count": 3,
   "metadata": {},
   "outputs": [
    {
     "name": "stdout",
     "output_type": "stream",
     "text": [
      "new loop, time: 0.0\n",
      "new loop, time: 6.016844749450684\n",
      "new loop, time: 11.004231929779053\n",
      "new loop, time: 15.016154766082764\n",
      "new loop, time: 18.002872467041016\n",
      "new loop, time: 20.833758115768433\n",
      "new loop, time: 23.550990104675293\n",
      "new loop, time: 26.271601676940918\n",
      "new loop, time: 28.97834348678589\n",
      "new loop, time: 31.690468072891235\n",
      "new loop, time: 35.01791977882385\n",
      "new loop, time: 41.01428842544556\n"
     ]
    }
   ],
   "source": [
    "tickList=[0,6,11,15,18,20,21,23,26,30,35,41]\n",
    "t = timer(debug=False)\n",
    "t.tickList_set(tickList)\n",
    "go=True\n",
    "starter=time.time()\n",
    "while(go):\n",
    "    go=t.tickList_go()\n",
    "    print(\"new loop, time:\",time.time()-starter)\n",
    "    [i*i for i in range(21000000)]\n",
    "    "
   ]
  },
  {
   "cell_type": "code",
   "execution_count": null,
   "metadata": {},
   "outputs": [],
   "source": []
  },
  {
   "cell_type": "code",
   "execution_count": 4,
   "metadata": {},
   "outputs": [],
   "source": [
    "def openWebsite(adress):\n",
    "    r = requests.get(adress)\n",
    "    return r.text"
   ]
  },
  {
   "cell_type": "code",
   "execution_count": 5,
   "metadata": {},
   "outputs": [],
   "source": [
    "def prettyPrint(text):\n",
    "    pp = pprint.PrettyPrinter(indent=1)\n",
    "    pp.pprint(text)"
   ]
  },
  {
   "cell_type": "code",
   "execution_count": 6,
   "metadata": {},
   "outputs": [],
   "source": [
    "def process_command_vbb(command, param):  \n",
    "    def furtherParamString(param):#,listToDelete):\n",
    "        ret=\"\"\n",
    "        for key in param.keys():\n",
    "            ret+= \"&\"+str(key)+\"=\"+str(param[key])\n",
    "        return ret\n",
    "    beforeId=command\n",
    "    behindId=furtherParamString(param)\n",
    "    return {\"beforeId\":beforeId, \"behindId\":behindId}"
   ]
  },
  {
   "cell_type": "code",
   "execution_count": 7,
   "metadata": {},
   "outputs": [],
   "source": [
    "def createAdress_vbb(command, param):\n",
    "    baseurl=\"http://demo.hafas.de/openapi/vbb-proxy/\"\n",
    "    commands = process_command_vbb(command, param)\n",
    "    accessId =\"felix-fauer-8b71-1705950c2589\"\n",
    "    adress = baseurl + commands['beforeId'] + \"?accessId=\" + accessId + commands['behindId']\n",
    "    print(adress)\n",
    "    return adress"
   ]
  },
  {
   "cell_type": "code",
   "execution_count": 8,
   "metadata": {},
   "outputs": [],
   "source": [
    "def responseToDict(response):\n",
    "    return xmltodict.parse(response)"
   ]
  },
  {
   "cell_type": "code",
   "execution_count": 9,
   "metadata": {},
   "outputs": [],
   "source": [
    "def getData(command, param):\n",
    "    response_xml = openWebsite(createAdress_vbb(command, param))\n",
    "    return responseToDict(response_xml)    "
   ]
  },
  {
   "cell_type": "code",
   "execution_count": 10,
   "metadata": {},
   "outputs": [],
   "source": [
    "def nameToExt(name):\n",
    "    response = getData('location.name', {\"input\":name,\"maxNo\":1})\n",
    "    return response['LocationList']['StopLocation']['@extId']"
   ]
  },
  {
   "cell_type": "code",
   "execution_count": 11,
   "metadata": {},
   "outputs": [],
   "source": [
    "def short_departureAt(name, maxNo=3):\n",
    "    ext=nameToExt(name)\n",
    "    command, param ='departureBoard', {'extId':ext,'maxJourneys':maxNo}\n",
    "    response = getData(command, param)\n",
    "    return response"
   ]
  },
  {
   "cell_type": "code",
   "execution_count": 12,
   "metadata": {},
   "outputs": [],
   "source": [
    "def nice_nextXDeparturesAt(name, maxNo=3):\n",
    "    response = short_departureAt(name, maxNo)\n",
    "    print(\"Next departures at \"+str(response['DepartureBoard']['Departure'][0]['@stop'])+\":\\n\")\n",
    "    print(\"   Line        Destination                     Time                  (intern data)\")\n",
    "    print(\"   ----        -----------                     ----\")\n",
    "    for dep in response['DepartureBoard']['Departure']:\n",
    "        if \"@rtTime\" in dep.keys():\n",
    "            if dep['@time'][0:5]!= dep['@rtTime'][0:5]:\n",
    "                print(\"   \"+dep['@name'].lstrip().ljust(8)+\"    \"+dep['@direction'].ljust(30)[0:30]+\"  \"+\n",
    "                      dep['@time'][0:5]+\" (\"+dep['@rtTime'][0:5]+\")\"+\"\".ljust(9)+dep['JourneyDetailRef']['@ref'])\n",
    "            else: \n",
    "                print(\"   \"+dep['@name'].lstrip().ljust(8)+\"    \"+dep['@direction'].ljust(30)[0:30]+\"  \"+\n",
    "                      dep['@rtTime'][0:5]+\"       \"+\"\".ljust(10)+dep['JourneyDetailRef']['@ref'])\n",
    "        else:\n",
    "            print(\"   \"+dep['@name'].lstrip().ljust(8)+\"    \"+dep['@direction'].ljust(30)[0:30]+\"  \"+\n",
    "                  dep['@time'][0:5]+\" (?)    \"+\"\".ljust(9)+dep['JourneyDetailRef']['@ref'])\n"
   ]
  },
  {
   "cell_type": "code",
   "execution_count": 13,
   "metadata": {
    "scrolled": true
   },
   "outputs": [
    {
     "name": "stdout",
     "output_type": "stream",
     "text": [
      "http://demo.hafas.de/openapi/vbb-proxy/location.name?accessId=felix-fauer-8b71-1705950c2589&input=Tauernallee/Säntisstraße&maxNo=1\n",
      "http://demo.hafas.de/openapi/vbb-proxy/departureBoard?accessId=felix-fauer-8b71-1705950c2589&extId=900070401&maxJourneys=5\n",
      "Next departures at Tauernallee/Säntisstr. (Berlin):\n",
      "\n",
      "   Line        Destination                     Time                  (intern data)\n",
      "   ----        -----------                     ----\n",
      "   M76         U Walther-Schreiber-Platz       23:57 (?)             1|25382|6|86|19022022\n",
      "   M76         S Lichtenrade                   00:02 (?)             1|25341|4|86|19022022\n",
      "   179         U Alt-Mariendorf                00:06 (?)             1|13663|14|86|19022022\n",
      "   X76         U Alt-Mariendorf                00:06 (?)             1|29032|9|86|19022022\n",
      "   179         Buckow, Gerlinger Str.          00:09 (?)             1|13627|15|86|19022022\n"
     ]
    }
   ],
   "source": [
    "nice_nextXDeparturesAt(\"Tauernallee/Säntisstraße\",5)\n",
    "#nice_nextXDeparturesAt(\"Messe Nord\",20)"
   ]
  },
  {
   "cell_type": "code",
   "execution_count": 14,
   "metadata": {},
   "outputs": [],
   "source": [
    "#command, param ='location.nearbystops', {'originCoordLat':52.50798,'originCoordLong':13.38,'maxNo':2}\n",
    "#command, param ='departureBoard', {'extId':900070401,'maxNo':1}\n",
    "command, param ='location.name', {\"input\":\"Tauernallee/Säntisstraße\",\"maxNo\":2}\n",
    "#command, param ='journeyDetail', {\"id\":\"1|25024|8|86|18052019\"}\n"
   ]
  },
  {
   "cell_type": "code",
   "execution_count": 15,
   "metadata": {
    "scrolled": true
   },
   "outputs": [
    {
     "name": "stdout",
     "output_type": "stream",
     "text": [
      "http://demo.hafas.de/openapi/vbb-proxy/location.name?accessId=felix-fauer-8b71-1705950c2589&input=Tauernallee/Säntisstraße&maxNo=2\n"
     ]
    }
   ],
   "source": [
    "response = getData(command, param)\n",
    "#prettyPrint(response)\n",
    "#print(short_departureAt(\"Tauernallee/Säntisstraße\"))\n",
    "#prettyPrint(short_departureAt(\"Zoolo\"))\n"
   ]
  },
  {
   "cell_type": "code",
   "execution_count": null,
   "metadata": {},
   "outputs": [],
   "source": []
  },
  {
   "cell_type": "code",
   "execution_count": null,
   "metadata": {},
   "outputs": [],
   "source": []
  },
  {
   "cell_type": "code",
   "execution_count": null,
   "metadata": {
    "scrolled": true
   },
   "outputs": [],
   "source": []
  },
  {
   "cell_type": "code",
   "execution_count": null,
   "metadata": {},
   "outputs": [],
   "source": []
  },
  {
   "cell_type": "code",
   "execution_count": null,
   "metadata": {},
   "outputs": [],
   "source": []
  }
 ],
 "metadata": {
  "kernelspec": {
   "display_name": "Python 3",
   "language": "python",
   "name": "python3"
  },
  "language_info": {
   "codemirror_mode": {
    "name": "ipython",
    "version": 3
   },
   "file_extension": ".py",
   "mimetype": "text/x-python",
   "name": "python",
   "nbconvert_exporter": "python",
   "pygments_lexer": "ipython3",
   "version": "3.8.5"
  }
 },
 "nbformat": 4,
 "nbformat_minor": 2
}
