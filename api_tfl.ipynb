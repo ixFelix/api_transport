{
 "cells": [
  {
   "cell_type": "code",
   "execution_count": 1,
   "metadata": {},
   "outputs": [],
   "source": [
    "import requests\n",
    "import time\n",
    "#from time import strftime\n",
    "import datetime\n",
    "import numpy as np\n",
    "import re\n",
    "import xmltodict\n",
    "import pprint# as pp\n",
    "#import process_command\n",
    "#print(dir(process_command))\n",
    "import ast"
   ]
  },
  {
   "cell_type": "code",
   "execution_count": 2,
   "metadata": {},
   "outputs": [],
   "source": [
    "def openWebsite(adress):\n",
    "    r = requests.get(adress)\n",
    "    return r.text"
   ]
  },
  {
   "cell_type": "code",
   "execution_count": 3,
   "metadata": {},
   "outputs": [],
   "source": [
    "def prettyPrint(text):\n",
    "    pp = pprint.PrettyPrinter(indent=1)\n",
    "    pp.pprint(text)"
   ]
  },
  {
   "cell_type": "code",
   "execution_count": 4,
   "metadata": {},
   "outputs": [],
   "source": [
    "def process_command(command, param):  \n",
    "    beforeId=\"\"\n",
    "    for c in command:\n",
    "        beforeId+= \"/\"+c\n",
    "    behindId=\"\"\n",
    "    for key in param.keys():\n",
    "        behindId+= \"&\"+str(key)+\"=\"+str(param[key])\n",
    "    return {\"beforeId\":beforeId, \"behindId\":behindId}"
   ]
  },
  {
   "cell_type": "code",
   "execution_count": 5,
   "metadata": {},
   "outputs": [],
   "source": [
    "def createAdress(command,param):\n",
    "    baseurl=\"https://api.tfl.gov.uk\"\n",
    "    commands = process_command(command,param)\n",
    "    xmlFormatter=\"\"#&forceXml=true\"\n",
    "    accessId =\"app_id=1f2bf917&app_key=985d619c2276f4318dff45f31f1274fa\"\n",
    "    adress = baseurl + commands[\"beforeId\"] + \"?\" + accessId + commands[\"behindId\"] + xmlFormatter\n",
    "    print(adress)\n",
    "    return adress\n",
    "# https://api.tfl.gov.uk/journey/journeyresults/westminster/to/\n",
    "# bank?app_id=1f2bf917&app_key=985d619c2276f4318dff45f31f1274fa&forceXml=true"
   ]
  },
  {
   "cell_type": "code",
   "execution_count": 6,
   "metadata": {},
   "outputs": [],
   "source": [
    "#addr=createAdress(['journey','journeyresults','westminster','to','bank'], {})\n",
    "#cont=openWebsite(addr)\n",
    "#print(type(cont))\n",
    "#myDict=ast.literal_eval(cont)\n",
    "#print(type(myDict))"
   ]
  },
  {
   "cell_type": "markdown",
   "metadata": {},
   "source": []
  },
  {
   "cell_type": "code",
   "execution_count": 7,
   "metadata": {},
   "outputs": [],
   "source": [
    "def responseToDict(response):\n",
    "    return ast.literal_eval(response)"
   ]
  },
  {
   "cell_type": "code",
   "execution_count": 8,
   "metadata": {},
   "outputs": [],
   "source": [
    "def getData(command, param):\n",
    "    response_xml = openWebsite(createAdress(command, param))\n",
    "    return responseToDict(response_xml)    "
   ]
  },
  {
   "cell_type": "code",
   "execution_count": 9,
   "metadata": {},
   "outputs": [],
   "source": [
    "#a = getData(['StopPoint/Search',], {'query':'AldgateEast'})\n",
    "\n",
    "#for i in range(20):\n",
    "#    print(a[i]['lineName'])\n",
    "#print(a['matches'][0]['name'])\n",
    "#print(a['matches'][0]['id'])\n"
   ]
  },
  {
   "cell_type": "code",
   "execution_count": 10,
   "metadata": {},
   "outputs": [],
   "source": [
    "#a = getData(['StopPoint/940GZZLUADE/arrivals',], {})"
   ]
  },
  {
   "cell_type": "code",
   "execution_count": 11,
   "metadata": {},
   "outputs": [],
   "source": [
    "def nameToId(name):\n",
    "    response = getData(['StopPoint/Search',], {'query':name})\n",
    "    return response['matches'][0]['id']"
   ]
  },
  {
   "cell_type": "code",
   "execution_count": 12,
   "metadata": {},
   "outputs": [],
   "source": [
    "#nameToId(\"AldgateEast\")"
   ]
  },
  {
   "cell_type": "code",
   "execution_count": 13,
   "metadata": {},
   "outputs": [],
   "source": [
    "def short_departureAt(name):\n",
    "    station_id=nameToId(name)\n",
    "    command, param = ['StopPoint',str(station_id),'arrivals'], {}\n",
    "    response = getData(command, param)\n",
    "    return response"
   ]
  },
  {
   "cell_type": "code",
   "execution_count": 14,
   "metadata": {
    "scrolled": true
   },
   "outputs": [],
   "source": [
    "#prettyPrint(short_departureAt(\"BakerStreet\"))"
   ]
  },
  {
   "cell_type": "code",
   "execution_count": 15,
   "metadata": {},
   "outputs": [],
   "source": [
    "def nice_nextXDeparturesAt(name):\n",
    "    response = short_departureAt(name)\n",
    "    print(\"Next departures at \"+str(response[0]['stationName'])+\":\\n\")\n",
    "    print(\"   \"+\"Line\".ljust(23)+\"Destination\".ljust(30)+\"Time\")#                  (intern data)\")\n",
    "    print(\"   \"+\"----\".ljust(23)+\"-----------\".ljust(30)+\"----\")\n",
    "    for ind,dep in enumerate(response):\n",
    "        print(\"   \"+dep['lineName'].ljust(23)+dep['towards'].ljust(30)[0:30]+dep['expectedArrival'][11:19])"
   ]
  },
  {
   "cell_type": "code",
   "execution_count": 16,
   "metadata": {
    "scrolled": true
   },
   "outputs": [],
   "source": [
    "#nice_nextXDeparturesAt(\"BakerStreet\")"
   ]
  },
  {
   "cell_type": "code",
   "execution_count": null,
   "metadata": {},
   "outputs": [],
   "source": []
  },
  {
   "cell_type": "code",
   "execution_count": 36,
   "metadata": {},
   "outputs": [],
   "source": [
    "def convertNextDepDictToArray(myDict):\n",
    "    length=6\n",
    "    arr = [[\"\" for j in range(length)] for i in range(len(myDict))]\n",
    "    #arr = np.chararray((len(myDict, length),itemsize=100,unicode=True)\n",
    "\n",
    "    for i in range(len(myDict)):\n",
    "        arr[i][0] = str(myDict[i]['expectedArrival'])\n",
    "        arr[i][1] = myDict[i]['lineName']\n",
    "        arr[i][2] = myDict[i]['towards']\n",
    "    return arr"
   ]
  },
  {
   "cell_type": "code",
   "execution_count": null,
   "metadata": {},
   "outputs": [],
   "source": []
  },
  {
   "cell_type": "code",
   "execution_count": 37,
   "metadata": {},
   "outputs": [],
   "source": [
    "def getNextDepartures(arr):\n",
    "    now=datetime.datetime.now() - datetime.timedelta(hours=2)\n",
    "    arr_new = arr#[:]+\"\"\n",
    "    for i in range(len(arr_new)):\n",
    "        formatX=\"%Y-%m-%dT%H:%M:%Sz\"\n",
    "        arr_new[i][3]=datetime.datetime.strptime(arr_new[i][0], formatX)\n",
    "        arr_new[i][4]=(arr_new[i][3]-now).total_seconds() \n",
    "    return arr_new"
   ]
  },
  {
   "cell_type": "code",
   "execution_count": 38,
   "metadata": {},
   "outputs": [],
   "source": [
    "def sortArray(arr, col=5):\n",
    "    for i in range(len(arr)):\n",
    "        for j in range(len(arr)-i-1):\n",
    "            if float(arr[i][col])>float(arr[i+j+1][col]):\n",
    "                #arr[i], arr[i+j+1] = arr[i+j+1], arr[i]\n",
    "                arr[[i, i+j+1]] = arr[[i+j+1, i]]\n",
    "    return arr"
   ]
  },
  {
   "cell_type": "code",
   "execution_count": 39,
   "metadata": {},
   "outputs": [],
   "source": [
    "def addNoise(arr, maxNoise=60):\n",
    "    noise = (60*np.random.rand(len(arr))-30).astype(int)\n",
    "    orig = np.array(arr)[:,4].astype(int)\n",
    "    new=noise+orig\n",
    "    arr=np.array(arr)\n",
    "    arr[:,5] = new\n",
    "    return arr"
   ]
  },
  {
   "cell_type": "code",
   "execution_count": 40,
   "metadata": {},
   "outputs": [
    {
     "name": "stdout",
     "output_type": "stream",
     "text": [
      "https://api.tfl.gov.uk/StopPoint/Search?app_id=1f2bf917&app_key=985d619c2276f4318dff45f31f1274fa&query=BakerStreet\n",
      "https://api.tfl.gov.uk/StopPoint/940GZZLUBST/arrivals?app_id=1f2bf917&app_key=985d619c2276f4318dff45f31f1274fa\n"
     ]
    }
   ],
   "source": [
    "response=short_departureAt(\"BakerStreet\")\n",
    "arr = convertNextDepDictToArray(response)"
   ]
  },
  {
   "cell_type": "code",
   "execution_count": 41,
   "metadata": {
    "scrolled": true
   },
   "outputs": [
    {
     "ename": "ValueError",
     "evalue": "could not convert string to float: ''",
     "output_type": "error",
     "traceback": [
      "\u001b[1;31m---------------------------------------------------------------------------\u001b[0m",
      "\u001b[1;31mValueError\u001b[0m                                Traceback (most recent call last)",
      "\u001b[1;32m<ipython-input-41-058b8528c01a>\u001b[0m in \u001b[0;36m<module>\u001b[1;34m\u001b[0m\n\u001b[0;32m      1\u001b[0m \u001b[0marr_new\u001b[0m \u001b[1;33m=\u001b[0m \u001b[0mgetNextDepartures\u001b[0m\u001b[1;33m(\u001b[0m\u001b[0marr\u001b[0m\u001b[1;33m)\u001b[0m\u001b[1;33m\u001b[0m\u001b[1;33m\u001b[0m\u001b[0m\n\u001b[0;32m      2\u001b[0m \u001b[0msort\u001b[0m \u001b[1;33m=\u001b[0m \u001b[0maddNoise\u001b[0m\u001b[1;33m(\u001b[0m\u001b[0marr_new\u001b[0m\u001b[1;33m)\u001b[0m\u001b[1;33m\u001b[0m\u001b[1;33m\u001b[0m\u001b[0m\n\u001b[1;32m----> 3\u001b[1;33m \u001b[0msort\u001b[0m \u001b[1;33m=\u001b[0m \u001b[0msortArray\u001b[0m\u001b[1;33m(\u001b[0m\u001b[0marr_new\u001b[0m\u001b[1;33m,\u001b[0m \u001b[0mcol\u001b[0m\u001b[1;33m=\u001b[0m\u001b[1;36m5\u001b[0m\u001b[1;33m)\u001b[0m\u001b[1;33m\u001b[0m\u001b[1;33m\u001b[0m\u001b[0m\n\u001b[0m\u001b[0;32m      4\u001b[0m \u001b[1;32mfor\u001b[0m \u001b[0mi\u001b[0m \u001b[1;32min\u001b[0m \u001b[0mrange\u001b[0m\u001b[1;33m(\u001b[0m\u001b[0mlen\u001b[0m\u001b[1;33m(\u001b[0m\u001b[0msort\u001b[0m\u001b[1;33m)\u001b[0m\u001b[1;33m)\u001b[0m\u001b[1;33m:\u001b[0m\u001b[1;33m\u001b[0m\u001b[1;33m\u001b[0m\u001b[0m\n\u001b[0;32m      5\u001b[0m     \u001b[1;31m#print(str(int(sort[i][4]/60))+\":\"+str(int(sort[i][4]%60)),sort[i,5],\"\\t\",sort[i][1],\"\\t to\",sort[i][2])\u001b[0m\u001b[1;33m\u001b[0m\u001b[1;33m\u001b[0m\u001b[1;33m\u001b[0m\u001b[0m\n",
      "\u001b[1;32m<ipython-input-38-b164c3ef287d>\u001b[0m in \u001b[0;36msortArray\u001b[1;34m(arr, col)\u001b[0m\n\u001b[0;32m      2\u001b[0m     \u001b[1;32mfor\u001b[0m \u001b[0mi\u001b[0m \u001b[1;32min\u001b[0m \u001b[0mrange\u001b[0m\u001b[1;33m(\u001b[0m\u001b[0mlen\u001b[0m\u001b[1;33m(\u001b[0m\u001b[0marr\u001b[0m\u001b[1;33m)\u001b[0m\u001b[1;33m)\u001b[0m\u001b[1;33m:\u001b[0m\u001b[1;33m\u001b[0m\u001b[1;33m\u001b[0m\u001b[0m\n\u001b[0;32m      3\u001b[0m         \u001b[1;32mfor\u001b[0m \u001b[0mj\u001b[0m \u001b[1;32min\u001b[0m \u001b[0mrange\u001b[0m\u001b[1;33m(\u001b[0m\u001b[0mlen\u001b[0m\u001b[1;33m(\u001b[0m\u001b[0marr\u001b[0m\u001b[1;33m)\u001b[0m\u001b[1;33m-\u001b[0m\u001b[0mi\u001b[0m\u001b[1;33m-\u001b[0m\u001b[1;36m1\u001b[0m\u001b[1;33m)\u001b[0m\u001b[1;33m:\u001b[0m\u001b[1;33m\u001b[0m\u001b[1;33m\u001b[0m\u001b[0m\n\u001b[1;32m----> 4\u001b[1;33m             \u001b[1;32mif\u001b[0m \u001b[0mfloat\u001b[0m\u001b[1;33m(\u001b[0m\u001b[0marr\u001b[0m\u001b[1;33m[\u001b[0m\u001b[0mi\u001b[0m\u001b[1;33m]\u001b[0m\u001b[1;33m[\u001b[0m\u001b[0mcol\u001b[0m\u001b[1;33m]\u001b[0m\u001b[1;33m)\u001b[0m\u001b[1;33m>\u001b[0m\u001b[0mfloat\u001b[0m\u001b[1;33m(\u001b[0m\u001b[0marr\u001b[0m\u001b[1;33m[\u001b[0m\u001b[0mi\u001b[0m\u001b[1;33m+\u001b[0m\u001b[0mj\u001b[0m\u001b[1;33m+\u001b[0m\u001b[1;36m1\u001b[0m\u001b[1;33m]\u001b[0m\u001b[1;33m[\u001b[0m\u001b[0mcol\u001b[0m\u001b[1;33m]\u001b[0m\u001b[1;33m)\u001b[0m\u001b[1;33m:\u001b[0m\u001b[1;33m\u001b[0m\u001b[1;33m\u001b[0m\u001b[0m\n\u001b[0m\u001b[0;32m      5\u001b[0m                 \u001b[1;31m#arr[i], arr[i+j+1] = arr[i+j+1], arr[i]\u001b[0m\u001b[1;33m\u001b[0m\u001b[1;33m\u001b[0m\u001b[1;33m\u001b[0m\u001b[0m\n\u001b[0;32m      6\u001b[0m                 \u001b[0marr\u001b[0m\u001b[1;33m[\u001b[0m\u001b[1;33m[\u001b[0m\u001b[0mi\u001b[0m\u001b[1;33m,\u001b[0m \u001b[0mi\u001b[0m\u001b[1;33m+\u001b[0m\u001b[0mj\u001b[0m\u001b[1;33m+\u001b[0m\u001b[1;36m1\u001b[0m\u001b[1;33m]\u001b[0m\u001b[1;33m]\u001b[0m \u001b[1;33m=\u001b[0m \u001b[0marr\u001b[0m\u001b[1;33m[\u001b[0m\u001b[1;33m[\u001b[0m\u001b[0mi\u001b[0m\u001b[1;33m+\u001b[0m\u001b[0mj\u001b[0m\u001b[1;33m+\u001b[0m\u001b[1;36m1\u001b[0m\u001b[1;33m,\u001b[0m \u001b[0mi\u001b[0m\u001b[1;33m]\u001b[0m\u001b[1;33m]\u001b[0m\u001b[1;33m\u001b[0m\u001b[1;33m\u001b[0m\u001b[0m\n",
      "\u001b[1;31mValueError\u001b[0m: could not convert string to float: ''"
     ]
    }
   ],
   "source": [
    "arr_new = getNextDepartures(arr)\n",
    "sort = addNoise(arr_new)\n",
    "sort = sortArray(arr_new, col=5)\n",
    "for i in range(len(sort)):\n",
    "    #print(str(int(sort[i][4]/60))+\":\"+str(int(sort[i][4]%60)),sort[i,5],\"\\t\",sort[i][1],\"\\t to\",sort[i][2])\n",
    "    print(int(sort[i,5]),\"\\t\",sort[i][1],\"\\t to\",sort[i][2])"
   ]
  },
  {
   "cell_type": "code",
   "execution_count": 42,
   "metadata": {},
   "outputs": [],
   "source": [
    "class timer:\n",
    "    import timer\n",
    "    def __init__(self,tickLength=60,debug=False):\n",
    "        self.span = tickLength\n",
    "        self.debug=debug\n",
    "        self.goTick=False\n",
    "\n",
    "    def tick(self, debug=False):\n",
    "        now=time.time()\n",
    "        if not self.goTick:\n",
    "            self.starttime = now+0.\n",
    "            self.goTick=True\n",
    "            self.lastTick = now+0.\n",
    "        sleepTime = span - ((now - starttime) % span)\n",
    "        nextTick = now + sleepTime\n",
    "        if nextTick > self.lastTick + self.span*1.1:\n",
    "            if self.debug:\n",
    "                print(\"  - timer: missed a tick\")\n",
    "        if self.debug:\n",
    "            print(\"  - timer: sleepTime = \"+str(sleepTime))\n",
    "        time.sleep(sleepTime)    \n",
    "        self.lastTick = time.time()\n",
    "    \n",
    "    def tickList_set(self,aList, epsilon = 0.1):\n",
    "        self.tickList = aList\n",
    "        self.tickListPointer=0\n",
    "        self.epsilon=epsilon\n",
    "    \n",
    "    def tickList_go(self): # use this method in a loop before doing something! First call starts counter.\n",
    "        if self.tickListPointer==0:\n",
    "            self.tickList_startTime=time.time()\n",
    "        differenceReal = time.time() - self.tickList_startTime\n",
    "        differencePlanned = self.tickList[self.tickListPointer]\n",
    "            \n",
    "        if differenceReal < differencePlanned:\n",
    "            sleepTime = differencePlanned-differenceReal \n",
    "            if self.debug:\n",
    "                print(\"  - timer: sleepTime =\",sleepTime)\n",
    "            time.sleep(sleepTime)\n",
    "        elif not self.tickListPointer==0:\n",
    "            if self.debug:\n",
    "                print(\"  - timer: warning. took to long time. Moving immidiatelly\")\n",
    "\n",
    "        if self.tickListPointer==len(self.tickList)-1:\n",
    "            if self.debug:\n",
    "                print(\"  - timer: tick list ends after next action.\")\n",
    "            return False\n",
    "        self.tickListPointer+=1\n",
    "        return True"
   ]
  },
  {
   "cell_type": "code",
   "execution_count": null,
   "metadata": {
    "scrolled": true
   },
   "outputs": [],
   "source": []
  },
  {
   "cell_type": "code",
   "execution_count": null,
   "metadata": {},
   "outputs": [],
   "source": []
  },
  {
   "cell_type": "code",
   "execution_count": null,
   "metadata": {},
   "outputs": [],
   "source": []
  },
  {
   "cell_type": "code",
   "execution_count": null,
   "metadata": {
    "scrolled": true
   },
   "outputs": [],
   "source": []
  },
  {
   "cell_type": "code",
   "execution_count": null,
   "metadata": {},
   "outputs": [],
   "source": []
  },
  {
   "cell_type": "code",
   "execution_count": null,
   "metadata": {},
   "outputs": [],
   "source": []
  }
 ],
 "metadata": {
  "kernelspec": {
   "display_name": "Python 3",
   "language": "python",
   "name": "python3"
  },
  "language_info": {
   "codemirror_mode": {
    "name": "ipython",
    "version": 3
   },
   "file_extension": ".py",
   "mimetype": "text/x-python",
   "name": "python",
   "nbconvert_exporter": "python",
   "pygments_lexer": "ipython3",
   "version": "3.8.5"
  }
 },
 "nbformat": 4,
 "nbformat_minor": 2
}
